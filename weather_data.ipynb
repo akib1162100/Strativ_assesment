{
  "nbformat": 4,
  "nbformat_minor": 0,
  "metadata": {
    "colab": {
      "provenance": [],
      "authorship_tag": "ABX9TyP2qS6SW5NrssRVPjUjhXtx",
      "include_colab_link": true
    },
    "kernelspec": {
      "name": "python3",
      "display_name": "Python 3"
    },
    "language_info": {
      "name": "python"
    }
  },
  "cells": [
    {
      "cell_type": "markdown",
      "metadata": {
        "id": "view-in-github",
        "colab_type": "text"
      },
      "source": [
        "<a href=\"https://colab.research.google.com/github/akib1162100/Strativ_assesment/blob/main/weather_data.ipynb\" target=\"_parent\"><img src=\"https://colab.research.google.com/assets/colab-badge.svg\" alt=\"Open In Colab\"/></a>"
      ]
    },
    {
      "cell_type": "code",
      "execution_count": null,
      "metadata": {
        "id": "YPyZQ8kNEWdd"
      },
      "outputs": [],
      "source": [
        "!pip install openmeteo-requests\n",
        "!pip install requests-cache retry-requests numpy pandas"
      ]
    },
    {
      "cell_type": "code",
      "source": [
        "# def get_district_info():\n"
      ],
      "metadata": {
        "id": "eVE1NSzpc-RQ"
      },
      "execution_count": null,
      "outputs": []
    },
    {
      "cell_type": "code",
      "source": [
        "import requests\n",
        "import json\n",
        "params_dict = {}\n",
        "def fetch_data():\n",
        "  url=\"https://raw.githubusercontent.com/strativ-dev/technical-screening-test/main/bd-districts.json\"\n",
        "  response=requests.get(url=url)\n",
        "  data=json.loads(response.content)\n",
        "  dist_list=data.get('districts')\n",
        "  for location in dist_list:\n",
        "      if not (location.get('name',None) and location.get('lat',None) and location.get('long',None)):\n",
        "        continue\n",
        "      name = location.get('name')\n",
        "      latitude = float(location.get('lat'))\n",
        "      longitude = float(location.get('long'))\n",
        "\n",
        "      params_dict[name] = {\n",
        "          \"latitude\": latitude,\n",
        "          \"longitude\": longitude,\n",
        "          \"hourly\": \"temperature_2m\",\n",
        "          \"timezone\": \"auto\",\n",
        "          \"past_days\": 0\n",
        "      }\n",
        "  return params_dict\n",
        "\n",
        "dist_time = timeit.timeit(fetch_data, number=1)\n",
        "print(dist_time)\n",
        "\n",
        "\n"
      ],
      "metadata": {
        "colab": {
          "base_uri": "https://localhost:8080/"
        },
        "id": "vu9j0Z8ddG6R",
        "outputId": "625e3a7e-4f79-4dce-a3d3-9e118cf965eb"
      },
      "execution_count": 25,
      "outputs": [
        {
          "output_type": "stream",
          "name": "stdout",
          "text": [
            "0.13291073800064623\n"
          ]
        }
      ]
    },
    {
      "cell_type": "code",
      "source": [
        "import pickle\n",
        "import timeit\n",
        "def save_dict():\n",
        "    with open('result_dict.pkl', 'wb') as file:\n",
        "        pickle.dump(params_dict, file)\n",
        "\n",
        "# Load result_dict from the file\n",
        "def load_dict():\n",
        "  with open('result_dict.pkl', 'rb') as file:\n",
        "      loaded_dict = pickle.load(file)\n",
        "\n",
        "# Measure the time it takes to save result_dict\n",
        "save_time = timeit.timeit(save_dict, number=1)\n",
        "\n",
        "# Measure the time it takes to load result_dict\n",
        "load_time = timeit.timeit(load_dict, number=1)\n",
        "\n",
        "# Print the results\n",
        "print(f\"Time to save result_dict: {save_time:.5f} seconds\")\n",
        "print(f\"Time to load result_dict: {load_time:.5f} seconds\")\n",
        "# print(loaded_dict)"
      ],
      "metadata": {
        "colab": {
          "base_uri": "https://localhost:8080/"
        },
        "id": "UgEV4A6Dfjjb",
        "outputId": "3455e60f-b439-41e6-de1c-c5d68de2573a"
      },
      "execution_count": 26,
      "outputs": [
        {
          "output_type": "stream",
          "name": "stdout",
          "text": [
            "Time to save result_dict: 0.00036 seconds\n",
            "Time to load result_dict: 0.00188 seconds\n"
          ]
        }
      ]
    },
    {
      "cell_type": "code",
      "source": [
        "import openmeteo_requests\n",
        "\n",
        "import requests_cache\n",
        "import pandas as pd\n",
        "from retry_requests import retry\n",
        "\n",
        "# Setup the Open-Meteo API client with cache and retry on error\n",
        "cache_session = requests_cache.CachedSession('.cache', expire_after = 3600)\n",
        "retry_session = retry(cache_session, retries = 5, backoff_factor = 0.2)\n",
        "openmeteo = openmeteo_requests.Client(session = retry_session)\n",
        "\n",
        "# Make sure all required weather variables are listed here\n",
        "# The order of variables in hourly or daily is important to assign them correctly below\n",
        "url = \"https://api.open-meteo.com/v1/forecast\"\n",
        "params = {\n",
        "\t\"latitude\": 23.7115253,\n",
        "\t\"longitude\": 90.4111451,\n",
        "\t\"hourly\": \"temperature_2m\",\n",
        "\t\"timezone\": \"auto\",\n",
        "\t\"past_days\": 0\n",
        "}\n",
        "responses = openmeteo.weather_api(url, params=params)\n",
        "\n",
        "# Process first location. Add a for-loop for multiple locations or weather models\n",
        "response = responses[0]\n",
        "print(f\"Coordinates {response.Latitude()}°E {response.Longitude()}°N\")\n",
        "print(f\"Elevation {response.Elevation()} m asl\")\n",
        "print(f\"Timezone {response.Timezone()} {response.TimezoneAbbreviation()}\")\n",
        "print(f\"Timezone difference to GMT+0 {response.UtcOffsetSeconds()} s\")"
      ],
      "metadata": {
        "colab": {
          "base_uri": "https://localhost:8080/"
        },
        "id": "n2nkRr5uEkCL",
        "outputId": "60808850-98d4-40eb-f644-23448f2819c9"
      },
      "execution_count": 40,
      "outputs": [
        {
          "output_type": "stream",
          "name": "stdout",
          "text": [
            "Coordinates 23.75°E 90.375°N\n",
            "Elevation 15.0 m asl\n",
            "Timezone b'Asia/Dhaka' b'+06'\n",
            "Timezone difference to GMT+0 21600 s\n"
          ]
        }
      ]
    },
    {
      "cell_type": "code",
      "source": [
        "url = \"https://api.open-meteo.com/v1/forecast\"\n",
        "params = {\n",
        "\t\"latitude\": 23.7115253,\n",
        "\t\"longitude\": 90.4111451,\n",
        "\t\"daily\": \"temperature_2m_max\",\n",
        "\t\"timezone\": \"auto\",\n",
        "\t\"past_days\": 7\n",
        "}\n",
        "responses = openmeteo.weather_api(url, params=params)\n",
        "\n",
        "# Process first location. Add a for-loop for multiple locations or weather models\n",
        "response = responses[0]\n",
        "print(f\"Coordinates {response.Latitude()}°E {response.Longitude()}°N\")\n",
        "print(f\"Elevation {response.Elevation()} m asl\")\n",
        "print(f\"Timezone {response.Timezone()} {response.TimezoneAbbreviation()}\")\n",
        "print(f\"Timezone difference to GMT+0 {response.UtcOffsetSeconds()} s\")"
      ],
      "metadata": {
        "colab": {
          "base_uri": "https://localhost:8080/"
        },
        "id": "aqYTkfLhxVTO",
        "outputId": "22bf76e8-094d-4d71-e1e5-51dd855fa01d"
      },
      "execution_count": 38,
      "outputs": [
        {
          "output_type": "stream",
          "name": "stdout",
          "text": [
            "Coordinates 23.75°E 90.375°N\n",
            "Elevation 15.0 m asl\n",
            "Timezone b'Asia/Dhaka' b'+06'\n",
            "Timezone difference to GMT+0 21600 s\n"
          ]
        }
      ]
    },
    {
      "cell_type": "code",
      "source": [
        "daily = response.Daily()\n",
        "daily_temperature_2m_max = daily.Variables(0).ValuesAsNumpy()\n",
        "\n",
        "daily_data = {\"date\": pd.date_range(\n",
        "\tstart = pd.to_datetime(daily.Time(), unit = \"s\"),\n",
        "\tend = pd.to_datetime(daily.TimeEnd(), unit = \"s\"),\n",
        "\tfreq = pd.Timedelta(seconds = daily.Interval()),\n",
        "\tinclusive = \"left\"\n",
        ")}\n",
        "daily_data[\"temperature_2m_max\"] = daily_temperature_2m_max\n",
        "\n",
        "daily_dataframe = pd.DataFrame(data = daily_data)\n",
        "print(daily_dataframe)"
      ],
      "metadata": {
        "colab": {
          "base_uri": "https://localhost:8080/"
        },
        "id": "6ZO4i1AkxEtx",
        "outputId": "0868f469-677e-4c3d-f142-3fa22e4d5545"
      },
      "execution_count": 39,
      "outputs": [
        {
          "output_type": "stream",
          "name": "stdout",
          "text": [
            "                  date  temperature_2m_max\n",
            "0  2023-11-15 18:00:00           27.128500\n",
            "1  2023-11-16 18:00:00           23.778500\n",
            "2  2023-11-17 18:00:00           27.878500\n",
            "3  2023-11-18 18:00:00           30.278500\n",
            "4  2023-11-19 18:00:00           30.628500\n",
            "5  2023-11-20 18:00:00           28.678499\n",
            "6  2023-11-21 18:00:00           28.628500\n",
            "7  2023-11-22 18:00:00           28.528500\n",
            "8  2023-11-23 18:00:00           28.478498\n",
            "9  2023-11-24 18:00:00           29.128500\n",
            "10 2023-11-25 18:00:00           30.978498\n",
            "11 2023-11-26 18:00:00           30.378500\n",
            "12 2023-11-27 18:00:00           28.928499\n",
            "13 2023-11-28 18:00:00           27.928499\n"
          ]
        }
      ]
    },
    {
      "cell_type": "code",
      "source": [
        "hourly = response.Hourly()\n",
        "hourly_temperature_2m = hourly.Variables(0).ValuesAsNumpy()\n",
        "\n",
        "hourly_data = {\"date\": pd.date_range(\n",
        "\tstart = pd.to_datetime(hourly.Time(), unit = \"s\"),\n",
        "\tend = pd.to_datetime(hourly.TimeEnd(), unit = \"s\"),\n",
        "\tfreq = pd.Timedelta(seconds = hourly.Interval()),\n",
        "\tinclusive = \"left\"\n",
        ")}\n",
        "hourly_data[\"temperature_2m\"] = hourly_temperature_2m\n",
        "\n",
        "hourly_dataframe = pd.DataFrame(data = hourly_data)\n",
        "print(hourly_dataframe.tail(24))"
      ],
      "metadata": {
        "colab": {
          "base_uri": "https://localhost:8080/"
        },
        "id": "eqeHUoJ3E8AX",
        "outputId": "36f5a47c-741b-4c73-907b-6ea13aad4793"
      },
      "execution_count": 41,
      "outputs": [
        {
          "output_type": "stream",
          "name": "stdout",
          "text": [
            "                   date  temperature_2m\n",
            "144 2023-11-28 18:00:00       20.978498\n",
            "145 2023-11-28 19:00:00       20.428499\n",
            "146 2023-11-28 20:00:00       20.028500\n",
            "147 2023-11-28 21:00:00       19.728498\n",
            "148 2023-11-28 22:00:00       19.428499\n",
            "149 2023-11-28 23:00:00       19.228498\n",
            "150 2023-11-29 00:00:00       19.428499\n",
            "151 2023-11-29 01:00:00       20.228498\n",
            "152 2023-11-29 02:00:00       21.378500\n",
            "153 2023-11-29 03:00:00       22.678499\n",
            "154 2023-11-29 04:00:00       24.128500\n",
            "155 2023-11-29 05:00:00       25.678499\n",
            "156 2023-11-29 06:00:00       26.878500\n",
            "157 2023-11-29 07:00:00       27.578499\n",
            "158 2023-11-29 08:00:00       27.928499\n",
            "159 2023-11-29 09:00:00       27.828499\n",
            "160 2023-11-29 10:00:00       26.978498\n",
            "161 2023-11-29 11:00:00       25.678499\n",
            "162 2023-11-29 12:00:00       24.528500\n",
            "163 2023-11-29 13:00:00       23.728498\n",
            "164 2023-11-29 14:00:00       23.028500\n",
            "165 2023-11-29 15:00:00       22.428499\n",
            "166 2023-11-29 16:00:00       21.878500\n",
            "167 2023-11-29 17:00:00       21.428499\n"
          ]
        }
      ]
    },
    {
      "cell_type": "code",
      "source": [
        "len(hourly_temperature_2m)"
      ],
      "metadata": {
        "colab": {
          "base_uri": "https://localhost:8080/"
        },
        "id": "Pz5lKTNg1ZOD",
        "outputId": "71a364f5-d01b-425f-9e86-721ecda51d3d"
      },
      "execution_count": 43,
      "outputs": [
        {
          "output_type": "execute_result",
          "data": {
            "text/plain": [
              "168"
            ]
          },
          "metadata": {},
          "execution_count": 43
        }
      ]
    }
  ]
}